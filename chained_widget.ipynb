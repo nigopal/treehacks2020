{
  "nbformat": 4,
  "nbformat_minor": 0,
  "metadata": {
    "colab": {
      "name": "chained_widget.ipynb",
      "provenance": [],
      "authorship_tag": "ABX9TyNVfgT1u4mSb3krKtAsfZrh",
      "include_colab_link": true
    },
    "kernelspec": {
      "name": "python3",
      "display_name": "Python 3"
    },
    "widgets": {
      "application/vnd.jupyter.widget-state+json": {
        "5e7b355089db43e383a83b34ebb84fad": {
          "model_module": "jupyter-leaflet",
          "model_name": "LeafletMapModel",
          "state": {
            "_view_name": "LeafletMapView",
            "keyboard_pan_offset": 80,
            "tap": true,
            "_view_module": "jupyter-leaflet",
            "max_zoom": 18,
            "_model_module_version": "^0.12.2",
            "_view_count": null,
            "min_zoom": 1,
            "bounce_at_zoom_limits": true,
            "keyboard": true,
            "north": 0,
            "scroll_wheel_zoom": false,
            "dragging": true,
            "_model_module": "jupyter-leaflet",
            "close_popup_on_click": true,
            "fullscreen": false,
            "style": "IPY_MODEL_f4f4b979520c4758888a9f568e40f3ce",
            "layout": "IPY_MODEL_f878172c4d264914a14e2ba4e5043d6e",
            "inertia_max_speed": 1500,
            "box_zoom": true,
            "controls": [
              "IPY_MODEL_3bd8cf29734844dc8ea2168fc2ef757c",
              "IPY_MODEL_5c6cdd924dac4b4ea7aed1573c60e1ec"
            ],
            "default_style": "IPY_MODEL_d4d0f9d383f547ba9f2989762d645651",
            "east": 0,
            "double_click_zoom": true,
            "interpolation": "bilinear",
            "layers": [
              "IPY_MODEL_808a14f345754d88a42505c1d676d950",
              "IPY_MODEL_67d7cb69a2f94eaebf79b29e37ac5251"
            ],
            "dragging_style": "IPY_MODEL_2e810c1f4de24d7d84fc692c639af56d",
            "_dom_classes": [],
            "zoom_animation_threshold": 4,
            "_model_name": "LeafletMapModel",
            "zoom_start": 12,
            "modisdate": "yesterday",
            "keyboard_zoom_offset": 1,
            "inertia_deceleration": 3000,
            "inertia": true,
            "crs": "EPSG3857",
            "center": [
              0,
              0
            ],
            "zoom": 3,
            "world_copy_jump": false,
            "_view_module_version": "^0.12.2",
            "tap_tolerance": 15,
            "west": 0,
            "touch_zoom": true,
            "options": [
              "bounce_at_zoom_limits",
              "box_zoom",
              "center",
              "close_popup_on_click",
              "double_click_zoom",
              "dragging",
              "fullscreen",
              "inertia",
              "inertia_deceleration",
              "inertia_max_speed",
              "interpolation",
              "keyboard",
              "keyboard_pan_offset",
              "keyboard_zoom_offset",
              "max_zoom",
              "min_zoom",
              "scroll_wheel_zoom",
              "tap",
              "tap_tolerance",
              "touch_zoom",
              "world_copy_jump",
              "zoom",
              "zoom_animation_threshold",
              "zoom_start"
            ],
            "south": 0
          }
        }
      }
    }
  },
  "cells": [
    {
      "cell_type": "markdown",
      "metadata": {
        "id": "view-in-github",
        "colab_type": "text"
      },
      "source": [
        "<a href=\"https://colab.research.google.com/github/silkthyme/treehacks2020/blob/master/chained_widget.ipynb\" target=\"_parent\"><img src=\"https://colab.research.google.com/assets/colab-badge.svg\" alt=\"Open In Colab\"/></a>"
      ]
    },
    {
      "cell_type": "code",
      "metadata": {
        "id": "pQAcAGlg5Emp",
        "colab_type": "code",
        "colab": {
          "base_uri": "https://localhost:8080/",
          "height": 810
        },
        "outputId": "bcb41954-076e-490b-9e47-055ae0cade58"
      },
      "source": [
        "!pip install ipyleaflet\n",
        "import datetime\n",
        "import dateutil.parser\n",
        "import ipywidgets\n",
        "import IPython.display\n",
        "import numpy as np\n",
        "import pprint\n",
        "import pandas as pd\n",
        "import traitlets\n",
        "import ee\n",
        "import ipyleaflet"
      ],
      "execution_count": 38,
      "outputs": [
        {
          "output_type": "stream",
          "text": [
            "Collecting ipyleaflet\n",
            "\u001b[?25l  Downloading https://files.pythonhosted.org/packages/d4/6b/d7454a15f92eaec650eb1a8af8b2dac7f8c12d9be7e5bd7ac9a457bdef7b/ipyleaflet-0.12.2-py2.py3-none-any.whl (2.8MB)\n",
            "\u001b[K     |████████████████████████████████| 2.8MB 3.0MB/s \n",
            "\u001b[?25hRequirement already satisfied: ipywidgets<8,>=7.5.0 in /usr/local/lib/python3.6/dist-packages (from ipyleaflet) (7.5.1)\n",
            "Collecting traittypes<3,>=0.2.1\n",
            "  Downloading https://files.pythonhosted.org/packages/9c/d1/8d5bd662703cc1764d986f6908a608777305946fa634d34c470cd4a1e729/traittypes-0.2.1-py2.py3-none-any.whl\n",
            "Requirement already satisfied: xarray>=0.10 in /usr/local/lib/python3.6/dist-packages (from ipyleaflet) (0.14.1)\n",
            "Requirement already satisfied: branca<0.4,>=0.3.1 in /usr/local/lib/python3.6/dist-packages (from ipyleaflet) (0.3.1)\n",
            "Requirement already satisfied: widgetsnbextension~=3.5.0 in /usr/local/lib/python3.6/dist-packages (from ipywidgets<8,>=7.5.0->ipyleaflet) (3.5.1)\n",
            "Requirement already satisfied: traitlets>=4.3.1 in /usr/local/lib/python3.6/dist-packages (from ipywidgets<8,>=7.5.0->ipyleaflet) (4.3.3)\n",
            "Requirement already satisfied: ipykernel>=4.5.1 in /usr/local/lib/python3.6/dist-packages (from ipywidgets<8,>=7.5.0->ipyleaflet) (4.6.1)\n",
            "Requirement already satisfied: ipython>=4.0.0; python_version >= \"3.3\" in /usr/local/lib/python3.6/dist-packages (from ipywidgets<8,>=7.5.0->ipyleaflet) (5.5.0)\n",
            "Requirement already satisfied: nbformat>=4.2.0 in /usr/local/lib/python3.6/dist-packages (from ipywidgets<8,>=7.5.0->ipyleaflet) (5.0.4)\n",
            "Requirement already satisfied: numpy>=1.14 in /usr/local/lib/python3.6/dist-packages (from xarray>=0.10->ipyleaflet) (1.17.5)\n",
            "Requirement already satisfied: pandas>=0.24 in /usr/local/lib/python3.6/dist-packages (from xarray>=0.10->ipyleaflet) (0.25.3)\n",
            "Requirement already satisfied: six in /usr/local/lib/python3.6/dist-packages (from branca<0.4,>=0.3.1->ipyleaflet) (1.12.0)\n",
            "Requirement already satisfied: jinja2 in /usr/local/lib/python3.6/dist-packages (from branca<0.4,>=0.3.1->ipyleaflet) (2.11.1)\n",
            "Requirement already satisfied: notebook>=4.4.1 in /usr/local/lib/python3.6/dist-packages (from widgetsnbextension~=3.5.0->ipywidgets<8,>=7.5.0->ipyleaflet) (5.2.2)\n",
            "Requirement already satisfied: decorator in /usr/local/lib/python3.6/dist-packages (from traitlets>=4.3.1->ipywidgets<8,>=7.5.0->ipyleaflet) (4.4.1)\n",
            "Requirement already satisfied: ipython-genutils in /usr/local/lib/python3.6/dist-packages (from traitlets>=4.3.1->ipywidgets<8,>=7.5.0->ipyleaflet) (0.2.0)\n",
            "Requirement already satisfied: tornado>=4.0 in /usr/local/lib/python3.6/dist-packages (from ipykernel>=4.5.1->ipywidgets<8,>=7.5.0->ipyleaflet) (4.5.3)\n",
            "Requirement already satisfied: jupyter-client in /usr/local/lib/python3.6/dist-packages (from ipykernel>=4.5.1->ipywidgets<8,>=7.5.0->ipyleaflet) (5.3.4)\n",
            "Requirement already satisfied: setuptools>=18.5 in /usr/local/lib/python3.6/dist-packages (from ipython>=4.0.0; python_version >= \"3.3\"->ipywidgets<8,>=7.5.0->ipyleaflet) (45.1.0)\n",
            "Requirement already satisfied: pygments in /usr/local/lib/python3.6/dist-packages (from ipython>=4.0.0; python_version >= \"3.3\"->ipywidgets<8,>=7.5.0->ipyleaflet) (2.1.3)\n",
            "Requirement already satisfied: simplegeneric>0.8 in /usr/local/lib/python3.6/dist-packages (from ipython>=4.0.0; python_version >= \"3.3\"->ipywidgets<8,>=7.5.0->ipyleaflet) (0.8.1)\n",
            "Requirement already satisfied: pexpect; sys_platform != \"win32\" in /usr/local/lib/python3.6/dist-packages (from ipython>=4.0.0; python_version >= \"3.3\"->ipywidgets<8,>=7.5.0->ipyleaflet) (4.8.0)\n",
            "Requirement already satisfied: prompt-toolkit<2.0.0,>=1.0.4 in /usr/local/lib/python3.6/dist-packages (from ipython>=4.0.0; python_version >= \"3.3\"->ipywidgets<8,>=7.5.0->ipyleaflet) (1.0.18)\n",
            "Requirement already satisfied: pickleshare in /usr/local/lib/python3.6/dist-packages (from ipython>=4.0.0; python_version >= \"3.3\"->ipywidgets<8,>=7.5.0->ipyleaflet) (0.7.5)\n",
            "Requirement already satisfied: jupyter-core in /usr/local/lib/python3.6/dist-packages (from nbformat>=4.2.0->ipywidgets<8,>=7.5.0->ipyleaflet) (4.6.2)\n",
            "Requirement already satisfied: jsonschema!=2.5.0,>=2.4 in /usr/local/lib/python3.6/dist-packages (from nbformat>=4.2.0->ipywidgets<8,>=7.5.0->ipyleaflet) (2.6.0)\n",
            "Requirement already satisfied: python-dateutil>=2.6.1 in /usr/local/lib/python3.6/dist-packages (from pandas>=0.24->xarray>=0.10->ipyleaflet) (2.6.1)\n",
            "Requirement already satisfied: pytz>=2017.2 in /usr/local/lib/python3.6/dist-packages (from pandas>=0.24->xarray>=0.10->ipyleaflet) (2018.9)\n",
            "Requirement already satisfied: MarkupSafe>=0.23 in /usr/local/lib/python3.6/dist-packages (from jinja2->branca<0.4,>=0.3.1->ipyleaflet) (1.1.1)\n",
            "Requirement already satisfied: nbconvert in /usr/local/lib/python3.6/dist-packages (from notebook>=4.4.1->widgetsnbextension~=3.5.0->ipywidgets<8,>=7.5.0->ipyleaflet) (5.6.1)\n",
            "Requirement already satisfied: terminado>=0.3.3; sys_platform != \"win32\" in /usr/local/lib/python3.6/dist-packages (from notebook>=4.4.1->widgetsnbextension~=3.5.0->ipywidgets<8,>=7.5.0->ipyleaflet) (0.8.3)\n",
            "Requirement already satisfied: pyzmq>=13 in /usr/local/lib/python3.6/dist-packages (from jupyter-client->ipykernel>=4.5.1->ipywidgets<8,>=7.5.0->ipyleaflet) (17.0.0)\n",
            "Requirement already satisfied: ptyprocess>=0.5 in /usr/local/lib/python3.6/dist-packages (from pexpect; sys_platform != \"win32\"->ipython>=4.0.0; python_version >= \"3.3\"->ipywidgets<8,>=7.5.0->ipyleaflet) (0.6.0)\n",
            "Requirement already satisfied: wcwidth in /usr/local/lib/python3.6/dist-packages (from prompt-toolkit<2.0.0,>=1.0.4->ipython>=4.0.0; python_version >= \"3.3\"->ipywidgets<8,>=7.5.0->ipyleaflet) (0.1.8)\n",
            "Requirement already satisfied: bleach in /usr/local/lib/python3.6/dist-packages (from nbconvert->notebook>=4.4.1->widgetsnbextension~=3.5.0->ipywidgets<8,>=7.5.0->ipyleaflet) (3.1.0)\n",
            "Requirement already satisfied: mistune<2,>=0.8.1 in /usr/local/lib/python3.6/dist-packages (from nbconvert->notebook>=4.4.1->widgetsnbextension~=3.5.0->ipywidgets<8,>=7.5.0->ipyleaflet) (0.8.4)\n",
            "Requirement already satisfied: pandocfilters>=1.4.1 in /usr/local/lib/python3.6/dist-packages (from nbconvert->notebook>=4.4.1->widgetsnbextension~=3.5.0->ipywidgets<8,>=7.5.0->ipyleaflet) (1.4.2)\n",
            "Requirement already satisfied: defusedxml in /usr/local/lib/python3.6/dist-packages (from nbconvert->notebook>=4.4.1->widgetsnbextension~=3.5.0->ipywidgets<8,>=7.5.0->ipyleaflet) (0.6.0)\n",
            "Requirement already satisfied: entrypoints>=0.2.2 in /usr/local/lib/python3.6/dist-packages (from nbconvert->notebook>=4.4.1->widgetsnbextension~=3.5.0->ipywidgets<8,>=7.5.0->ipyleaflet) (0.3)\n",
            "Requirement already satisfied: testpath in /usr/local/lib/python3.6/dist-packages (from nbconvert->notebook>=4.4.1->widgetsnbextension~=3.5.0->ipywidgets<8,>=7.5.0->ipyleaflet) (0.4.4)\n",
            "Requirement already satisfied: webencodings in /usr/local/lib/python3.6/dist-packages (from bleach->nbconvert->notebook>=4.4.1->widgetsnbextension~=3.5.0->ipywidgets<8,>=7.5.0->ipyleaflet) (0.5.1)\n",
            "Installing collected packages: traittypes, ipyleaflet\n",
            "Successfully installed ipyleaflet-0.12.2 traittypes-0.2.1\n"
          ],
          "name": "stdout"
        }
      ]
    },
    {
      "cell_type": "code",
      "metadata": {
        "id": "L-pjQX-j5xmU",
        "colab_type": "code",
        "colab": {
          "base_uri": "https://localhost:8080/",
          "height": 168
        },
        "outputId": "db4fed67-d4a2-4839-d4a7-05a534d9349c"
      },
      "source": [
        "ee.Authenticate()\n",
        "ee.Initialize()"
      ],
      "execution_count": 7,
      "outputs": [
        {
          "output_type": "stream",
          "text": [
            "To authorize access needed by Earth Engine, open the following URL in a web browser and follow the instructions. If the web browser does not start automatically, please manually browse the URL below.\n",
            "\n",
            "    https://accounts.google.com/o/oauth2/auth?client_id=517222506229-vsmmajv00ul0bs7p89v5m89qs8eb9359.apps.googleusercontent.com&scope=https%3A%2F%2Fwww.googleapis.com%2Fauth%2Fearthengine+https%3A%2F%2Fwww.googleapis.com%2Fauth%2Fdevstorage.full_control&redirect_uri=urn%3Aietf%3Awg%3Aoauth%3A2.0%3Aoob&response_type=code\n",
            "\n",
            "The authorization workflow will generate a code, which you should paste in the box below. \n",
            "Enter verification code: 4/wgHnqWmWzKEPEahCV9z0NFIVcpBRyv--Rd1MgZfc3dEH37qKwKdfONA\n",
            "\n",
            "Successfully saved authorization token.\n"
          ],
          "name": "stdout"
        }
      ]
    },
    {
      "cell_type": "code",
      "metadata": {
        "id": "cS8V_Q_850Ij",
        "colab_type": "code",
        "colab": {
          "base_uri": "https://localhost:8080/",
          "height": 32
        },
        "outputId": "c68bbf98-cf52-4720-d8af-f05688ac0506"
      },
      "source": [
        "images = ee.ImageCollection('MODIS/006/MOD10A1').filter(ee.Filter.date('2018-01-01', '2018-12-31'))\n",
        "region = ee.Feature(ee.FeatureCollection('EPA/Ecoregions/2013/L3').filter(ee.Filter.eq('us_l3name', 'Sierra Nevada')).first())\n",
        "image = images.first()\n",
        "image.bandNames().getInfo()\n",
        "images.size().getInfo()"
      ],
      "execution_count": 49,
      "outputs": [
        {
          "output_type": "execute_result",
          "data": {
            "text/plain": [
              "364"
            ]
          },
          "metadata": {
            "tags": []
          },
          "execution_count": 49
        }
      ]
    },
    {
      "cell_type": "code",
      "metadata": {
        "id": "f5nEFSg76mSL",
        "colab_type": "code",
        "colab": {}
      },
      "source": [
        "#get the monday of every week in a month\n",
        "def monthly(start_date, end_date):\n",
        "  weeks = []\n",
        "  start_date = dt.strptime(start_date, '%Y-%m-%d')\n",
        "  end_date = dt.strptime(end_date, '%Y-%m-%d')\n",
        "  while start_date <= end_date:\n",
        "    ref_date = start_date\n",
        "    monday = ref_date - timedelta(days = ref_date.weekday())\n",
        "    weeks.append(ref_date)\n",
        "    start_date += timedelta(days = 33)\n",
        "  return weeks\n",
        "\n",
        "#modified from user tda on gis.stackexchange\n",
        "def extract_time_series(collection, geometry, start, end):\n",
        "    # Get list of images which correspond with the above\n",
        "    weeks = get_mondays(start,end)\n",
        "    store = []\n",
        "    date_store = []\n",
        "    images = [item.get('id') for item in collection.getInfo().get('features')]\n",
        "    for image in images:\n",
        "      image = ee.Image(image)\n",
        "      # Obtain date from timestamp in metadata\n",
        "      date_store.append(np.datetime64(dt.fromtimestamp(image.get(\"system:time_start\").getInfo() / 1000.)))\n",
        "      data = temp_collection.reduceRegion(reducer=ee.Reducer.sum(), geometry=geometry, scale=30, maxPixels=1e9)      \n",
        "      store.append(data.getInfo()['NDSI'])\n",
        "    store = [x if isinstance(x, float) else np.nan for x in store]\n",
        "      # Convert output into pandas data frame\n",
        "    df = pd.DataFrame({'Week': [i + 1 for i in range(len(date_store))], 'NDSI': store})\n",
        "    return df"
      ],
      "execution_count": 0,
      "outputs": []
    },
    {
      "cell_type": "code",
      "metadata": {
        "id": "gsWR71jq8vYG",
        "colab_type": "code",
        "colab": {
          "base_uri": "https://localhost:8080/",
          "height": 49
        },
        "outputId": "f19c536b-bc1b-4d07-cf9d-32fa8d1274e9"
      },
      "source": [
        "thumbnail_url = image.getThumbUrl({\n",
        "    'bands': 'NDSI',\n",
        "    'min': 0,\n",
        "    'max': 3000,\n",
        "    'region': region\n",
        "})\n",
        "IPython.display.HTML('Thumbnail URL: <a href = {0}>{0} </a>'.format(thumbnail_url))"
      ],
      "execution_count": 51,
      "outputs": [
        {
          "output_type": "execute_result",
          "data": {
            "text/html": [
              "Thumbnail URL: <a href = https://earthengine.googleapis.com/v1alpha/projects/earthengine-legacy/thumbnails/a0fce957aaea5065e40a1e9e9fd94490-e2b6df9383c0403f7e7e7832430e7ae0:getPixels>https://earthengine.googleapis.com/v1alpha/projects/earthengine-legacy/thumbnails/a0fce957aaea5065e40a1e9e9fd94490-e2b6df9383c0403f7e7e7832430e7ae0:getPixels </a>"
            ],
            "text/plain": [
              "<IPython.core.display.HTML object>"
            ]
          },
          "metadata": {
            "tags": []
          },
          "execution_count": 51
        }
      ]
    },
    {
      "cell_type": "code",
      "metadata": {
        "id": "viICNbZb9Rar",
        "colab_type": "code",
        "colab": {
          "base_uri": "https://localhost:8080/",
          "height": 1000
        },
        "outputId": "0285bc8c-436f-46c1-f37b-2e3e22dfe707"
      },
      "source": [
        "IPython.display.Image(url = thumbnail_url)"
      ],
      "execution_count": 52,
      "outputs": [
        {
          "output_type": "execute_result",
          "data": {
            "text/html": [
              "<img src=\"https://earthengine.googleapis.com/v1alpha/projects/earthengine-legacy/thumbnails/a0fce957aaea5065e40a1e9e9fd94490-e2b6df9383c0403f7e7e7832430e7ae0:getPixels\"/>"
            ],
            "text/plain": [
              "<IPython.core.display.Image object>"
            ]
          },
          "metadata": {
            "tags": []
          },
          "execution_count": 52
        }
      ]
    },
    {
      "cell_type": "code",
      "metadata": {
        "id": "qVNzBvG39myM",
        "colab_type": "code",
        "colab": {}
      },
      "source": [
        "filtered = images.filterDate('2014-01-01', '2014-12-31').median()"
      ],
      "execution_count": 0,
      "outputs": []
    },
    {
      "cell_type": "code",
      "metadata": {
        "id": "VUdPS3CL_WZt",
        "colab_type": "code",
        "colab": {}
      },
      "source": [
        "def GetTileLayerURl(ee_image_object):\n",
        "  map_id = ee.Image(ee_image_object).getMapId()\n",
        "  tile_url_template = \"https://earthengine.googleapis.com/map/{mapid}/{{z}}/{{x}},{{y}}?token={token}\"\n",
        "  return tile_url_template.format(**map_id)\n",
        "\n",
        "def ReplaceOverlayLayers(map_object, ee_image_object):\n",
        "  for layer in map_object.layers[1:]:\n",
        "    map_object.remove_layer(layer)\n",
        "  tile_url = GetTileLayerURl(ee_image_object)\n",
        "  map_object.add_layer(ipyleaflet.TileLayer(url=tile_url))\n",
        "\n",
        "map2 = ipyleaflet.Map(zoom=3, layout = {'height': '400px'})\n",
        "ReplaceOverlayLayers(map2, filtered)"
      ],
      "execution_count": 0,
      "outputs": []
    },
    {
      "cell_type": "code",
      "metadata": {
        "id": "sNO0fwf8_1qS",
        "colab_type": "code",
        "colab": {
          "base_uri": "https://localhost:8080/",
          "height": 16,
          "referenced_widgets": [
            "5e7b355089db43e383a83b34ebb84fad"
          ]
        },
        "outputId": "281a07cf-db21-43e9-8599-f64d0ffbb308"
      },
      "source": [
        "display(map2)"
      ],
      "execution_count": 48,
      "outputs": [
        {
          "output_type": "display_data",
          "data": {
            "application/vnd.jupyter.widget-view+json": {
              "model_id": "5e7b355089db43e383a83b34ebb84fad",
              "version_minor": 0,
              "version_major": 2
            },
            "text/plain": [
              "Map(center=[0.0, 0.0], controls=(ZoomControl(options=['position', 'zoom_in_text', 'zoom_in_title', 'zoom_out_t…"
            ]
          },
          "metadata": {
            "tags": []
          }
        }
      ]
    },
    {
      "cell_type": "code",
      "metadata": {
        "id": "RfCDz71PBGel",
        "colab_type": "code",
        "colab": {}
      },
      "source": [
        ""
      ],
      "execution_count": 0,
      "outputs": []
    }
  ]
}